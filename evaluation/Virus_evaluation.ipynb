{
 "cells": [
  {
   "cell_type": "code",
   "execution_count": 56,
   "metadata": {},
   "outputs": [],
   "source": [
    "import os\n",
    "from subprocess import Popen, PIPE"
   ]
  },
  {
   "cell_type": "code",
   "execution_count": 85,
   "metadata": {},
   "outputs": [],
   "source": [
    "def returns_segfault(shell_command):\n",
    "    proc = Popen(shell_command, shell=True, stdout=PIPE, stderr=PIPE)\n",
    "    out, err = proc.communicate()\n",
    "    return proc.returncode == 139"
   ]
  },
  {
   "cell_type": "code",
   "execution_count": 86,
   "metadata": {},
   "outputs": [],
   "source": [
    "def infected_path(path):\n",
    "    return path.replace('/binaries/', '/infected_binaries/')"
   ]
  },
  {
   "cell_type": "code",
   "execution_count": 87,
   "metadata": {},
   "outputs": [],
   "source": [
    "def infect_path(path):\n",
    "    infected = infected_path(path)\n",
    "    proc = Popen(['../infector', '-p', path, '../payload', infected])\n",
    "    out, err = proc.communicate()\n",
    "    return proc.returncode, infected"
   ]
  },
  {
   "cell_type": "code",
   "execution_count": 88,
   "metadata": {},
   "outputs": [],
   "source": [
    "clean_binaries_path = './binaries/'\n",
    "executable_paths = os.listdir(clean_binaries_path)\n",
    "executable_paths = list(map(lambda x: os.path.join(clean_binaries_path, x), executable_paths))"
   ]
  },
  {
   "cell_type": "code",
   "execution_count": 89,
   "metadata": {},
   "outputs": [],
   "source": [
    "segfaults = list(map(lambda x: returns_segfault(' '.join(['timeout', '10']+[x])),executable_paths))"
   ]
  },
  {
   "cell_type": "code",
   "execution_count": 90,
   "metadata": {},
   "outputs": [
    {
     "data": {
      "text/plain": [
       "0.0"
      ]
     },
     "execution_count": 90,
     "metadata": {},
     "output_type": "execute_result"
    }
   ],
   "source": [
    "segf_rate = sum(segfaults)/len(segfaults)\n",
    "segf_rate"
   ]
  },
  {
   "cell_type": "code",
   "execution_count": 91,
   "metadata": {},
   "outputs": [
    {
     "data": {
      "text/plain": [
       "148"
      ]
     },
     "execution_count": 91,
     "metadata": {},
     "output_type": "execute_result"
    }
   ],
   "source": [
    "len(executable_paths)"
   ]
  },
  {
   "cell_type": "code",
   "execution_count": 92,
   "metadata": {},
   "outputs": [
    {
     "data": {
      "text/plain": [
       "124"
      ]
     },
     "execution_count": 92,
     "metadata": {},
     "output_type": "execute_result"
    }
   ],
   "source": [
    "infected = list(map(infect_path, executable_paths))\n",
    "infected = list(filter(lambda x: x[0] == 0, infected))\n",
    "len(infected)"
   ]
  },
  {
   "cell_type": "code",
   "execution_count": 93,
   "metadata": {},
   "outputs": [
    {
     "data": {
      "text/plain": [
       "[(0, './infected_binaries/efibootdump'),\n",
       " (0, './infected_binaries/tar'),\n",
       " (0, './infected_binaries/hostname'),\n",
       " (0, './infected_binaries/fgconsole'),\n",
       " (0, './infected_binaries/chgrp'),\n",
       " (0, './infected_binaries/kill'),\n",
       " (0, './infected_binaries/pwd'),\n",
       " (0, './infected_binaries/bzip2'),\n",
       " (0, './infected_binaries/true'),\n",
       " (0, './infected_binaries/findmnt')]"
      ]
     },
     "execution_count": 93,
     "metadata": {},
     "output_type": "execute_result"
    }
   ],
   "source": [
    "infected[:10]"
   ]
  },
  {
   "cell_type": "code",
   "execution_count": 94,
   "metadata": {},
   "outputs": [],
   "source": [
    "segfaults_infected = list(map(lambda x: returns_segfault(' '.join(['timeout', '10']+[x[1]])),infected))"
   ]
  },
  {
   "cell_type": "code",
   "execution_count": 95,
   "metadata": {},
   "outputs": [
    {
     "data": {
      "text/plain": [
       "124"
      ]
     },
     "execution_count": 95,
     "metadata": {},
     "output_type": "execute_result"
    }
   ],
   "source": [
    "len(segfaults_infected)"
   ]
  },
  {
   "cell_type": "code",
   "execution_count": 96,
   "metadata": {},
   "outputs": [
    {
     "data": {
      "text/plain": [
       "0"
      ]
     },
     "execution_count": 96,
     "metadata": {},
     "output_type": "execute_result"
    }
   ],
   "source": [
    "sum(segfaults_infected)"
   ]
  },
  {
   "cell_type": "code",
   "execution_count": 97,
   "metadata": {},
   "outputs": [
    {
     "data": {
      "text/plain": [
       "0.0"
      ]
     },
     "execution_count": 97,
     "metadata": {},
     "output_type": "execute_result"
    }
   ],
   "source": [
    "sum(segfaults_infected) / len(segfaults_infected)"
   ]
  },
  {
   "cell_type": "code",
   "execution_count": 107,
   "metadata": {},
   "outputs": [
    {
     "name": "stdout",
     "output_type": "stream",
     "text": [
      "\n",
      "--------------------------\n",
      "Statistics \n",
      "--------------------------\n",
      "Percentage of segfaults in uninfected files: 0.0%\n",
      "Percentage of files sucessfully infected: 83.78%\n",
      "Percentage of segfaults in infected files: 0.0%\n",
      "\n",
      "\n"
     ]
    }
   ],
   "source": [
    "print(\"\"\"\n",
    "--------------------------\n",
    "Statistics \n",
    "--------------------------\n",
    "Percentage of segfaults in uninfected files: {0}%\n",
    "Percentage of files sucessfully infected: {1:.2f}%\n",
    "Percentage of segfaults in infected files: {2}%\n",
    "\n",
    "\"\"\".format(segf_rate * 100, len(segfaults_infected)/ len(executable_paths) * 100, sum(segfaults_infected) / len(segfaults_infected) *100))"
   ]
  }
 ],
 "metadata": {
  "kernelspec": {
   "display_name": "Python 3",
   "language": "python",
   "name": "python3"
  },
  "language_info": {
   "codemirror_mode": {
    "name": "ipython",
    "version": 3
   },
   "file_extension": ".py",
   "mimetype": "text/x-python",
   "name": "python",
   "nbconvert_exporter": "python",
   "pygments_lexer": "ipython3",
   "version": "3.6.8"
  }
 },
 "nbformat": 4,
 "nbformat_minor": 4
}
