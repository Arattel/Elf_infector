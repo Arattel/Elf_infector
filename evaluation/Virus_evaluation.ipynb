{
 "cells": [
  {
   "cell_type": "code",
   "execution_count": 5,
   "metadata": {},
   "outputs": [],
   "source": [
    "import os\n",
    "from subprocess import Popen, PIPE"
   ]
  },
  {
   "cell_type": "code",
   "execution_count": 6,
   "metadata": {},
   "outputs": [],
   "source": [
    "def returns_segfault(shell_command):\n",
    "    proc = Popen(shell_command, shell=True, stdout=PIPE, stderr=PIPE)\n",
    "    out, err = proc.communicate()\n",
    "    return proc.returncode == 139 or proc.returncode == 11 or proc.returncode == -11"
   ]
  },
  {
   "cell_type": "code",
   "execution_count": 7,
   "metadata": {},
   "outputs": [],
   "source": [
    "def infected_path(path):\n",
    "    return path.replace('/binaries/', '/infected_binaries/')"
   ]
  },
  {
   "cell_type": "code",
   "execution_count": 8,
   "metadata": {},
   "outputs": [],
   "source": [
    "def infect_path(path):\n",
    "    infected = infected_path(path)\n",
    "    proc = Popen(['../infector', '-p', path, '../payload', infected])\n",
    "    out, err = proc.communicate()\n",
    "    return proc.returncode, infected"
   ]
  },
  {
   "cell_type": "code",
   "execution_count": 9,
   "metadata": {},
   "outputs": [],
   "source": [
    "clean_binaries_path = './binaries/'\n",
    "executable_paths = os.listdir(clean_binaries_path)\n",
    "executable_paths = list(map(lambda x: os.path.join(clean_binaries_path, x), executable_paths))"
   ]
  },
  {
   "cell_type": "code",
   "execution_count": 10,
   "metadata": {},
   "outputs": [],
   "source": [
    "segfaults = list(map(lambda x: returns_segfault(' '.join(['timeout', '10']+[x])),executable_paths))"
   ]
  },
  {
   "cell_type": "code",
   "execution_count": 11,
   "metadata": {},
   "outputs": [
    {
     "data": {
      "text/plain": [
       "0.02027027027027027"
      ]
     },
     "execution_count": 11,
     "metadata": {},
     "output_type": "execute_result"
    }
   ],
   "source": [
    "segf_rate = sum(segfaults)/len(segfaults)\n",
    "segf_rate"
   ]
  },
  {
   "cell_type": "code",
   "execution_count": 13,
   "metadata": {},
   "outputs": [
    {
     "name": "stdout",
     "output_type": "stream",
     "text": [
      "3\n"
     ]
    }
   ],
   "source": [
    "print(sum(segfaults))"
   ]
  },
  {
   "cell_type": "code",
   "execution_count": 14,
   "metadata": {},
   "outputs": [
    {
     "data": {
      "text/plain": [
       "148"
      ]
     },
     "execution_count": 14,
     "metadata": {},
     "output_type": "execute_result"
    }
   ],
   "source": [
    "len(executable_paths)"
   ]
  },
  {
   "cell_type": "code",
   "execution_count": 15,
   "metadata": {},
   "outputs": [],
   "source": [
    "infected = list(map(infect_path, executable_paths))"
   ]
  },
  {
   "cell_type": "code",
   "execution_count": 16,
   "metadata": {},
   "outputs": [
    {
     "data": {
      "text/plain": [
       "[(0, './infected_binaries/efibootdump'),\n",
       " (0, './infected_binaries/tar'),\n",
       " (0, './infected_binaries/hostname'),\n",
       " (0, './infected_binaries/fgconsole'),\n",
       " (0, './infected_binaries/chgrp'),\n",
       " (0, './infected_binaries/kill'),\n",
       " (0, './infected_binaries/pwd'),\n",
       " (0, './infected_binaries/bzip2'),\n",
       " (0, './infected_binaries/true'),\n",
       " (0, './infected_binaries/findmnt'),\n",
       " (0, './infected_binaries/wdctl'),\n",
       " (0, './infected_binaries/systemd-notify'),\n",
       " (0, './infected_binaries/dnsdomainname'),\n",
       " (0, './infected_binaries/mt'),\n",
       " (0, './infected_binaries/more'),\n",
       " (0, './infected_binaries/journalctl'),\n",
       " (0, './infected_binaries/plymouth'),\n",
       " (0, './infected_binaries/fusermount'),\n",
       " (0, './infected_binaries/rmdir'),\n",
       " (251, './infected_binaries/zcmp'),\n",
       " (251, './infected_binaries/bzegrep'),\n",
       " (251, './infected_binaries/zcat'),\n",
       " (0, './infected_binaries/bash'),\n",
       " (0, './infected_binaries/systemd-inhibit'),\n",
       " (0, './infected_binaries/ls'),\n",
       " (251, './infected_binaries/zegrep'),\n",
       " (251, './infected_binaries/zmore'),\n",
       " (0, './infected_binaries/ntfsusermap'),\n",
       " (0, './infected_binaries/sync'),\n",
       " (0, './infected_binaries/bzip2recover'),\n",
       " (0, './infected_binaries/sleep'),\n",
       " (0, './infected_binaries/mount'),\n",
       " (0, './infected_binaries/nc'),\n",
       " (0, './infected_binaries/systemd'),\n",
       " (251, './infected_binaries/bzmore'),\n",
       " (0, './infected_binaries/ntfsls'),\n",
       " (0, './infected_binaries/dmesg'),\n",
       " (251, './infected_binaries/fgrep'),\n",
       " (0, './infected_binaries/efibootmgr'),\n",
       " (0, './infected_binaries/cat'),\n",
       " (0, './infected_binaries/sh.distrib'),\n",
       " (251, './infected_binaries/znew'),\n",
       " (0, './infected_binaries/lsblk'),\n",
       " (0, './infected_binaries/df'),\n",
       " (251, './infected_binaries/bzgrep'),\n",
       " (0, './infected_binaries/ps'),\n",
       " (0, './infected_binaries/umount'),\n",
       " (0, './infected_binaries/ntfscmp'),\n",
       " (0, './infected_binaries/systemd-escape'),\n",
       " (0, './infected_binaries/rbash'),\n",
       " (0, './infected_binaries/ntfswipe'),\n",
       " (0, './infected_binaries/dd'),\n",
       " (0, './infected_binaries/false'),\n",
       " (0, './infected_binaries/ulockmgr_server'),\n",
       " (0, './infected_binaries/grep'),\n",
       " (0, './infected_binaries/su'),\n",
       " (0, './infected_binaries/nc.openbsd'),\n",
       " (0, './infected_binaries/mt-gnu'),\n",
       " (251, './infected_binaries/uncompress'),\n",
       " (251, './infected_binaries/bzfgrep'),\n",
       " (251, './infected_binaries/setupcon'),\n",
       " (0, './infected_binaries/ss'),\n",
       " (0, './infected_binaries/mktemp'),\n",
       " (0, './infected_binaries/ntfsrecover'),\n",
       " (0, './infected_binaries/ntfs-3g.probe'),\n",
       " (0, './infected_binaries/uname'),\n",
       " (0, './infected_binaries/systemctl'),\n",
       " (0, './infected_binaries/nano'),\n",
       " (0, './infected_binaries/kbd_mode'),\n",
       " (251, './infected_binaries/zless'),\n",
       " (0, './infected_binaries/ypdomainname'),\n",
       " (0, './infected_binaries/dir'),\n",
       " (0, './infected_binaries/domainname'),\n",
       " (0, './infected_binaries/ntfsfix'),\n",
       " (0, './infected_binaries/mknod'),\n",
       " (0, './infected_binaries/systemd-sysusers'),\n",
       " (251, './infected_binaries/bzexe'),\n",
       " (0, './infected_binaries/systemd-ask-password'),\n",
       " (0, './infected_binaries/systemd-tty-ask-password-agent'),\n",
       " (0, './infected_binaries/systemd-machine-id-setup'),\n",
       " (0, './infected_binaries/login'),\n",
       " (0, './infected_binaries/chown'),\n",
       " (0, './infected_binaries/ntfscat'),\n",
       " (0, './infected_binaries/fuser'),\n",
       " (251, './infected_binaries/zfgrep'),\n",
       " (0, './infected_binaries/ping'),\n",
       " (0, './infected_binaries/chvt'),\n",
       " (0, './infected_binaries/mkdir'),\n",
       " (251, './infected_binaries/red'),\n",
       " (0, './infected_binaries/readlink'),\n",
       " (0, './infected_binaries/bunzip2'),\n",
       " (0, './infected_binaries/loginctl'),\n",
       " (251, './infected_binaries/unicode_start'),\n",
       " (0, './infected_binaries/static-sh'),\n",
       " (0, './infected_binaries/mountpoint'),\n",
       " (0, './infected_binaries/rnano'),\n",
       " (0, './infected_binaries/vdir'),\n",
       " (0, './infected_binaries/dash'),\n",
       " (0, './infected_binaries/run-parts'),\n",
       " (251, './infected_binaries/bzcmp'),\n",
       " (0, './infected_binaries/stty'),\n",
       " (0, './infected_binaries/gzip'),\n",
       " (0, './infected_binaries/whiptail'),\n",
       " (0, './infected_binaries/bzcat'),\n",
       " (0, './infected_binaries/busybox'),\n",
       " (0, './infected_binaries/ping4'),\n",
       " (0, './infected_binaries/echo'),\n",
       " (0, './infected_binaries/ping6'),\n",
       " (0, './infected_binaries/cpio'),\n",
       " (0, './infected_binaries/chmod'),\n",
       " (0, './infected_binaries/lowntfs-3g'),\n",
       " (0, './infected_binaries/mv'),\n",
       " (0, './infected_binaries/netstat'),\n",
       " (0, './infected_binaries/ntfsinfo'),\n",
       " (0, './infected_binaries/open'),\n",
       " (0, './infected_binaries/ed'),\n",
       " (251, './infected_binaries/gunzip'),\n",
       " (0, './infected_binaries/ntfssecaudit'),\n",
       " (0, './infected_binaries/tempfile'),\n",
       " (0, './infected_binaries/ln'),\n",
       " (0, './infected_binaries/networkctl'),\n",
       " (0, './infected_binaries/keyctl'),\n",
       " (0, './infected_binaries/ntfstruncate'),\n",
       " (0, './infected_binaries/pidof'),\n",
       " (0, './infected_binaries/ntfscluster'),\n",
       " (0, './infected_binaries/openvt'),\n",
       " (251, './infected_binaries/egrep'),\n",
       " (0, './infected_binaries/sh'),\n",
       " (251, './infected_binaries/gzexe'),\n",
       " (251, './infected_binaries/zdiff'),\n",
       " (0, './infected_binaries/kmod'),\n",
       " (0, './infected_binaries/ntfsmove'),\n",
       " (251, './infected_binaries/bzless'),\n",
       " (0, './infected_binaries/date'),\n",
       " (0, './infected_binaries/ntfsfallocate'),\n",
       " (0, './infected_binaries/systemd-tmpfiles'),\n",
       " (0, './infected_binaries/netcat'),\n",
       " (0, './infected_binaries/nisdomainname'),\n",
       " (251, './infected_binaries/bzdiff'),\n",
       " (251, './infected_binaries/zgrep'),\n",
       " (251, './infected_binaries/zforce'),\n",
       " (0, './infected_binaries/systemd-hwdb'),\n",
       " (0, './infected_binaries/setfont'),\n",
       " (0, './infected_binaries/ntfs-3g'),\n",
       " (0, './infected_binaries/sed'),\n",
       " (0, './infected_binaries/cp'),\n",
       " (0, './infected_binaries/hciconfig'),\n",
       " (0, './infected_binaries/rm')]"
      ]
     },
     "execution_count": 16,
     "metadata": {},
     "output_type": "execute_result"
    }
   ],
   "source": [
    "infected"
   ]
  },
  {
   "cell_type": "code",
   "execution_count": 17,
   "metadata": {},
   "outputs": [
    {
     "data": {
      "text/plain": [
       "122"
      ]
     },
     "execution_count": 17,
     "metadata": {},
     "output_type": "execute_result"
    }
   ],
   "source": [
    "successfully_infected = list(filter(lambda x: x[0] == 0, infected))\n",
    "len(successfully_infected)"
   ]
  },
  {
   "cell_type": "code",
   "execution_count": 18,
   "metadata": {},
   "outputs": [
    {
     "data": {
      "text/plain": [
       "[(0, './infected_binaries/efibootdump'),\n",
       " (0, './infected_binaries/tar'),\n",
       " (0, './infected_binaries/hostname'),\n",
       " (0, './infected_binaries/fgconsole'),\n",
       " (0, './infected_binaries/chgrp'),\n",
       " (0, './infected_binaries/kill'),\n",
       " (0, './infected_binaries/pwd'),\n",
       " (0, './infected_binaries/bzip2'),\n",
       " (0, './infected_binaries/true'),\n",
       " (0, './infected_binaries/findmnt')]"
      ]
     },
     "execution_count": 18,
     "metadata": {},
     "output_type": "execute_result"
    }
   ],
   "source": [
    "successfully_infected[:10]"
   ]
  },
  {
   "cell_type": "code",
   "execution_count": 19,
   "metadata": {},
   "outputs": [],
   "source": [
    "segfaults_infected = list(map(lambda x: returns_segfault(' '.join(['timeout', '10']+[x[1]])),successfully_infected))"
   ]
  },
  {
   "cell_type": "code",
   "execution_count": 20,
   "metadata": {},
   "outputs": [
    {
     "data": {
      "text/plain": [
       "122"
      ]
     },
     "execution_count": 20,
     "metadata": {},
     "output_type": "execute_result"
    }
   ],
   "source": [
    "len(segfaults_infected)"
   ]
  },
  {
   "cell_type": "code",
   "execution_count": 21,
   "metadata": {},
   "outputs": [
    {
     "data": {
      "text/plain": [
       "3"
      ]
     },
     "execution_count": 21,
     "metadata": {},
     "output_type": "execute_result"
    }
   ],
   "source": [
    "sum(segfaults_infected)"
   ]
  },
  {
   "cell_type": "code",
   "execution_count": 22,
   "metadata": {},
   "outputs": [
    {
     "data": {
      "text/plain": [
       "0.02459016393442623"
      ]
     },
     "execution_count": 22,
     "metadata": {},
     "output_type": "execute_result"
    }
   ],
   "source": [
    "sum(segfaults_infected) / len(segfaults_infected)"
   ]
  },
  {
   "cell_type": "code",
   "execution_count": 29,
   "metadata": {},
   "outputs": [
    {
     "name": "stdout",
     "output_type": "stream",
     "text": [
      "\n",
      "--------------------------\n",
      "Statistics \n",
      "--------------------------\n",
      "Percentage of segfaults in uninfected files: 2.027027027027027%\n",
      "Number of segfaults: 3\n",
      "Number of segfaults in infected files: 3\n",
      "\n"
     ]
    }
   ],
   "source": [
    "print(\"\"\"\n",
    "--------------------------\n",
    "Statistics \n",
    "--------------------------\n",
    "Percentage of segfaults in uninfected files: {0}%\n",
    "Number of segfaults: {1}\n",
    "Number of segfaults in infected files: {2}\n",
    "\"\"\".format(segf_rate * 100, sum(segfaults), sum(segfaults_infected)))"
   ]
  },
  {
   "cell_type": "code",
   "execution_count": 30,
   "metadata": {},
   "outputs": [
    {
     "data": {
      "text/plain": [
       "[(0, './infected_binaries/efibootdump'),\n",
       " (0, './infected_binaries/tar'),\n",
       " (0, './infected_binaries/hostname'),\n",
       " (0, './infected_binaries/fgconsole'),\n",
       " (0, './infected_binaries/chgrp'),\n",
       " (0, './infected_binaries/kill'),\n",
       " (0, './infected_binaries/pwd'),\n",
       " (0, './infected_binaries/bzip2'),\n",
       " (0, './infected_binaries/true'),\n",
       " (0, './infected_binaries/findmnt'),\n",
       " (0, './infected_binaries/wdctl'),\n",
       " (0, './infected_binaries/systemd-notify'),\n",
       " (0, './infected_binaries/dnsdomainname'),\n",
       " (0, './infected_binaries/mt'),\n",
       " (0, './infected_binaries/more'),\n",
       " (0, './infected_binaries/journalctl'),\n",
       " (0, './infected_binaries/plymouth'),\n",
       " (0, './infected_binaries/fusermount'),\n",
       " (0, './infected_binaries/rmdir'),\n",
       " (251, './infected_binaries/zcmp'),\n",
       " (251, './infected_binaries/bzegrep'),\n",
       " (251, './infected_binaries/zcat'),\n",
       " (0, './infected_binaries/bash'),\n",
       " (0, './infected_binaries/systemd-inhibit'),\n",
       " (0, './infected_binaries/ls'),\n",
       " (251, './infected_binaries/zegrep'),\n",
       " (251, './infected_binaries/zmore'),\n",
       " (0, './infected_binaries/ntfsusermap'),\n",
       " (0, './infected_binaries/sync'),\n",
       " (0, './infected_binaries/bzip2recover'),\n",
       " (0, './infected_binaries/sleep'),\n",
       " (0, './infected_binaries/mount'),\n",
       " (0, './infected_binaries/nc'),\n",
       " (0, './infected_binaries/systemd'),\n",
       " (251, './infected_binaries/bzmore'),\n",
       " (0, './infected_binaries/ntfsls'),\n",
       " (0, './infected_binaries/dmesg'),\n",
       " (251, './infected_binaries/fgrep'),\n",
       " (0, './infected_binaries/efibootmgr'),\n",
       " (0, './infected_binaries/cat'),\n",
       " (0, './infected_binaries/sh.distrib'),\n",
       " (251, './infected_binaries/znew'),\n",
       " (0, './infected_binaries/lsblk'),\n",
       " (0, './infected_binaries/df'),\n",
       " (251, './infected_binaries/bzgrep'),\n",
       " (0, './infected_binaries/ps'),\n",
       " (0, './infected_binaries/umount'),\n",
       " (0, './infected_binaries/ntfscmp'),\n",
       " (0, './infected_binaries/systemd-escape'),\n",
       " (0, './infected_binaries/rbash'),\n",
       " (0, './infected_binaries/ntfswipe'),\n",
       " (0, './infected_binaries/dd'),\n",
       " (0, './infected_binaries/false'),\n",
       " (0, './infected_binaries/ulockmgr_server'),\n",
       " (0, './infected_binaries/grep'),\n",
       " (0, './infected_binaries/su'),\n",
       " (0, './infected_binaries/nc.openbsd'),\n",
       " (0, './infected_binaries/mt-gnu'),\n",
       " (251, './infected_binaries/uncompress'),\n",
       " (251, './infected_binaries/bzfgrep'),\n",
       " (251, './infected_binaries/setupcon'),\n",
       " (0, './infected_binaries/ss'),\n",
       " (0, './infected_binaries/mktemp'),\n",
       " (0, './infected_binaries/ntfsrecover'),\n",
       " (0, './infected_binaries/ntfs-3g.probe'),\n",
       " (0, './infected_binaries/uname'),\n",
       " (0, './infected_binaries/systemctl'),\n",
       " (0, './infected_binaries/nano'),\n",
       " (0, './infected_binaries/kbd_mode'),\n",
       " (251, './infected_binaries/zless'),\n",
       " (0, './infected_binaries/ypdomainname'),\n",
       " (0, './infected_binaries/dir'),\n",
       " (0, './infected_binaries/domainname'),\n",
       " (0, './infected_binaries/ntfsfix'),\n",
       " (0, './infected_binaries/mknod'),\n",
       " (0, './infected_binaries/systemd-sysusers'),\n",
       " (251, './infected_binaries/bzexe'),\n",
       " (0, './infected_binaries/systemd-ask-password'),\n",
       " (0, './infected_binaries/systemd-tty-ask-password-agent'),\n",
       " (0, './infected_binaries/systemd-machine-id-setup'),\n",
       " (0, './infected_binaries/login'),\n",
       " (0, './infected_binaries/chown'),\n",
       " (0, './infected_binaries/ntfscat'),\n",
       " (0, './infected_binaries/fuser'),\n",
       " (251, './infected_binaries/zfgrep'),\n",
       " (0, './infected_binaries/ping'),\n",
       " (0, './infected_binaries/chvt'),\n",
       " (0, './infected_binaries/mkdir'),\n",
       " (251, './infected_binaries/red'),\n",
       " (0, './infected_binaries/readlink'),\n",
       " (0, './infected_binaries/bunzip2'),\n",
       " (0, './infected_binaries/loginctl'),\n",
       " (251, './infected_binaries/unicode_start'),\n",
       " (0, './infected_binaries/static-sh'),\n",
       " (0, './infected_binaries/mountpoint'),\n",
       " (0, './infected_binaries/rnano'),\n",
       " (0, './infected_binaries/vdir'),\n",
       " (0, './infected_binaries/dash'),\n",
       " (0, './infected_binaries/run-parts'),\n",
       " (251, './infected_binaries/bzcmp'),\n",
       " (0, './infected_binaries/stty'),\n",
       " (0, './infected_binaries/gzip'),\n",
       " (0, './infected_binaries/whiptail'),\n",
       " (0, './infected_binaries/bzcat'),\n",
       " (0, './infected_binaries/busybox'),\n",
       " (0, './infected_binaries/ping4'),\n",
       " (0, './infected_binaries/echo'),\n",
       " (0, './infected_binaries/ping6'),\n",
       " (0, './infected_binaries/cpio'),\n",
       " (0, './infected_binaries/chmod'),\n",
       " (0, './infected_binaries/lowntfs-3g'),\n",
       " (0, './infected_binaries/mv'),\n",
       " (0, './infected_binaries/netstat'),\n",
       " (0, './infected_binaries/ntfsinfo'),\n",
       " (0, './infected_binaries/open'),\n",
       " (0, './infected_binaries/ed'),\n",
       " (251, './infected_binaries/gunzip'),\n",
       " (0, './infected_binaries/ntfssecaudit'),\n",
       " (0, './infected_binaries/tempfile'),\n",
       " (0, './infected_binaries/ln'),\n",
       " (0, './infected_binaries/networkctl'),\n",
       " (0, './infected_binaries/keyctl'),\n",
       " (0, './infected_binaries/ntfstruncate'),\n",
       " (0, './infected_binaries/pidof'),\n",
       " (0, './infected_binaries/ntfscluster'),\n",
       " (0, './infected_binaries/openvt'),\n",
       " (251, './infected_binaries/egrep'),\n",
       " (0, './infected_binaries/sh'),\n",
       " (251, './infected_binaries/gzexe'),\n",
       " (251, './infected_binaries/zdiff'),\n",
       " (0, './infected_binaries/kmod'),\n",
       " (0, './infected_binaries/ntfsmove'),\n",
       " (251, './infected_binaries/bzless'),\n",
       " (0, './infected_binaries/date'),\n",
       " (0, './infected_binaries/ntfsfallocate'),\n",
       " (0, './infected_binaries/systemd-tmpfiles'),\n",
       " (0, './infected_binaries/netcat'),\n",
       " (0, './infected_binaries/nisdomainname'),\n",
       " (251, './infected_binaries/bzdiff'),\n",
       " (251, './infected_binaries/zgrep'),\n",
       " (251, './infected_binaries/zforce'),\n",
       " (0, './infected_binaries/systemd-hwdb'),\n",
       " (0, './infected_binaries/setfont'),\n",
       " (0, './infected_binaries/ntfs-3g'),\n",
       " (0, './infected_binaries/sed'),\n",
       " (0, './infected_binaries/cp'),\n",
       " (0, './infected_binaries/hciconfig'),\n",
       " (0, './infected_binaries/rm')]"
      ]
     },
     "execution_count": 30,
     "metadata": {},
     "output_type": "execute_result"
    }
   ],
   "source": [
    "infected"
   ]
  },
  {
   "cell_type": "code",
   "execution_count": null,
   "metadata": {},
   "outputs": [],
   "source": []
  }
 ],
 "metadata": {
  "kernelspec": {
   "display_name": "Python 3",
   "language": "python",
   "name": "python3"
  },
  "language_info": {
   "codemirror_mode": {
    "name": "ipython",
    "version": 3
   },
   "file_extension": ".py",
   "mimetype": "text/x-python",
   "name": "python",
   "nbconvert_exporter": "python",
   "pygments_lexer": "ipython3",
   "version": "3.6.8"
  }
 },
 "nbformat": 4,
 "nbformat_minor": 4
}
